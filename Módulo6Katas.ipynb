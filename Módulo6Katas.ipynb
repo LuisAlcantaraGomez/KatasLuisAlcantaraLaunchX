{
 "cells": [
  {
   "cell_type": "code",
   "execution_count": 4,
   "metadata": {},
   "outputs": [
    {
     "name": "stdout",
     "output_type": "stream",
     "text": [
      "El numero de planetas que hay en el sistema solar son:  9\n",
      "El ultimo planeta del sistema solar es pluton\n"
     ]
    }
   ],
   "source": [
    "planetas = ['mercurio','venus','tierra','marte','jupiter','saturno','urano','neptuno']\n",
    "\n",
    "planetas.append('pluton')\n",
    "\n",
    "numplanetas=len(planetas)\n",
    "print(\"El numero de planetas que hay en el sistema solar son: \", numplanetas)\n",
    "print(\"El ultimo planeta del sistema solar es\", planetas[-1])\n"
   ]
  },
  {
   "cell_type": "code",
   "execution_count": 8,
   "metadata": {},
   "outputs": [
    {
     "name": "stdout",
     "output_type": "stream",
     "text": [
      "El planeta mas cercano del sol es  Venus\n",
      "['Mercury']\n",
      "El planeta mas alejado del sol es  Venus\n",
      "['Earth', 'Mars', 'Jupiter', 'Saturn', 'Neptune']\n"
     ]
    }
   ],
   "source": [
    "planets = ['Mercury', 'Venus', 'Earth', 'Mars', 'Jupiter', 'Saturn', 'Neptune']\n",
    "\n",
    "digita = input(\"Solicita el nombre de un planeta, iniciando con la primer letra en mayuscula\")\n",
    "\n",
    "planeta_index = planets.index(digita)\n",
    "print(\"El planeta mas cercano del sol es \",digita)\n",
    "print(planets[0:planeta_index])\n",
    "\n",
    "print(\"El planeta mas alejado del sol es \",digita)\n",
    "print(planets[planeta_index + 1:])\n"
   ]
  }
 ],
 "metadata": {
  "interpreter": {
   "hash": "6255dd1bed068819f526516db85631384edaf9c863bcc430dd6a7138615f419b"
  },
  "kernelspec": {
   "display_name": "Python 3.9.10 64-bit (windows store)",
   "language": "python",
   "name": "python3"
  },
  "language_info": {
   "codemirror_mode": {
    "name": "ipython",
    "version": 3
   },
   "file_extension": ".py",
   "mimetype": "text/x-python",
   "name": "python",
   "nbconvert_exporter": "python",
   "pygments_lexer": "ipython3",
   "version": "3.9.10"
  },
  "orig_nbformat": 4
 },
 "nbformat": 4,
 "nbformat_minor": 2
}
