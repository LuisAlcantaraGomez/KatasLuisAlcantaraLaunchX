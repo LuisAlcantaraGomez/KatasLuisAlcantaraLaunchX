{
 "cells": [
  {
   "cell_type": "code",
   "execution_count": 4,
   "metadata": {},
   "outputs": [
    {
     "name": "stdout",
     "output_type": "stream",
     "text": [
      "mercurio\n",
      "venus\n",
      "tierra\n",
      "marte\n",
      "jupiter\n",
      "saturno\n",
      "urano\n",
      "neptuno\n",
      "mercurio\n",
      "venus\n",
      "tierra\n",
      "marte\n",
      "jupiter\n",
      "saturno\n",
      "urano\n",
      "neptuno\n",
      "jupiter\n"
     ]
    }
   ],
   "source": [
    "new_planet=''\n",
    "planets=['mercurio', 'venus','tierra','marte','jupiter','saturno','urano', 'neptuno']\n",
    "\n",
    "#Ciclo while para identificar los datos que el usuario tecleo \n",
    "while new_planet != 'done':\n",
    "    if new_planet:\n",
    "        planets.append(new_planet)\n",
    "    new_planet=input(\"Ingresa el nombre de un planeta y escribe done cuando hayas acabado\")\n",
    "    \n",
    "    #Ciclo for para impresion de planetas \n",
    "    for planet in planets:\n",
    "        print(planet)\n",
    "\n",
    "\n"
   ]
  }
 ],
 "metadata": {
  "interpreter": {
   "hash": "6255dd1bed068819f526516db85631384edaf9c863bcc430dd6a7138615f419b"
  },
  "kernelspec": {
   "display_name": "Python 3.9.10 64-bit (windows store)",
   "language": "python",
   "name": "python3"
  },
  "language_info": {
   "codemirror_mode": {
    "name": "ipython",
    "version": 3
   },
   "file_extension": ".py",
   "mimetype": "text/x-python",
   "name": "python",
   "nbconvert_exporter": "python",
   "pygments_lexer": "ipython3",
   "version": "3.9.10"
  },
  "orig_nbformat": 4
 },
 "nbformat": 4,
 "nbformat_minor": 2
}
