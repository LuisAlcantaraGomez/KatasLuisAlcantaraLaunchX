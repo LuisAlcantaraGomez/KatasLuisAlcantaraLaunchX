{
 "cells": [
  {
   "cell_type": "code",
   "execution_count": 18,
   "metadata": {},
   "outputs": [
    {
     "name": "stdout",
     "output_type": "stream",
     "text": [
      "El promedio de los taques es 68.33333333333333\n"
     ]
    },
    {
     "data": {
      "text/plain": [
       "66.66666666666667"
      ]
     },
     "execution_count": 18,
     "metadata": {},
     "output_type": "execute_result"
    }
   ],
   "source": [
    "def combustible(tanque1, tanque2, tanque3):\n",
    "    t_promedio = (tanque1 + tanque2 + tanque3)/3\n",
    "    return f'''El promedio de los taques es {t_promedio}'''\n",
    "\n",
    "print(combustible(50,90,65))\n",
    "\n",
    "\n",
    "\n",
    "#Actualizando la funcion\n",
    "def promedio(tanq):\n",
    "    total=sum(tanq)\n",
    "    tanques=len(tanq)\n",
    "    return total / tanques\n",
    "\n",
    "promedio([50,90,60])\n"
   ]
  },
  {
   "cell_type": "code",
   "execution_count": 26,
   "metadata": {},
   "outputs": [
    {
     "name": "stdout",
     "output_type": "stream",
     "text": [
      "El promedio de los taques es 66.66666666666667\n"
     ]
    }
   ],
   "source": [
    "def combustible(tanque1, tanque2, tanque3):\n",
    "    return f'''El promedio de los taques es {promedio([tanque1, tanque2, tanque3])}'''\n",
    "\n",
    "\n",
    "print(combustible(50,90,60))"
   ]
  },
  {
   "cell_type": "code",
   "execution_count": 17,
   "metadata": {},
   "outputs": [
    {
     "name": "stdout",
     "output_type": "stream",
     "text": [
      "Prelanzamiento en 2 minutos \n",
      "Un tiempo de vuelo de 12 minutos \n",
      "Con destino a marte \n",
      "Total de combustible 170 lts.\n"
     ]
    }
   ],
   "source": [
    "def informe(prelanzamiento, tiempodevuelo, destino, tanque_externo, tanque_interno):\n",
    "    return f'''Prelanzamiento en {prelanzamiento} minutos \\nUn tiempo de vuelo de {tiempodevuelo} minutos \\nCon destino a {destino} \\nTotal de combustible {tanque_externo + tanque_interno} lts.'''\n",
    "\n",
    "print(informe(2,12,'marte',80,90))\n",
    "\n",
    "    "
   ]
  },
  {
   "cell_type": "code",
   "execution_count": 28,
   "metadata": {},
   "outputs": [
    {
     "name": "stdout",
     "output_type": "stream",
     "text": [
      "El tiempo de vuelo total es de 22 minutos \n",
      "Combustible de reserva: 150 lts\n"
     ]
    }
   ],
   "source": [
    "def informeb(*minutes, **fuel_reservois):\n",
    "    t_minutes=sum(minutes)\n",
    "    reserva = sum(fuel_reservois.values())\n",
    "    return f'''El tiempo de vuelo total es de {t_minutes} minutos \\nCombustible de reserva: {reserva} lts'''\n",
    "\n",
    "print(informeb(2,12,8, externo=90, interno=60))"
   ]
  },
  {
   "cell_type": "code",
   "execution_count": 68,
   "metadata": {},
   "outputs": [
    {
     "name": "stdout",
     "output_type": "stream",
     "text": [
      "El tiempo de vuelo total es de 22 minutos \n",
      "Combustible de reserva: 150 lts\n",
      "Tanque externo con 90 lts\n",
      "Tanque interno con 60 lts\n"
     ]
    }
   ],
   "source": [
    "\n",
    "def informeb(*minutes, **fuel_reservois):\n",
    "    t_minutes=sum(minutes)\n",
    "    reserva = sum(fuel_reservois.values())\n",
    "    informe_final = f'''El tiempo de vuelo total es de {t_minutes} minutos \\nCombustible de reserva: {reserva} lts'''\n",
    "\n",
    "    for tanque, litros in fuel_reservois.items():\n",
    "        informe_final += f'\\nTanque {tanque} con {litros} lts'\n",
    "    return informe_final\n",
    "     \n",
    "    \n",
    "print(informeb(2,12,8, externo=90, interno=60))"
   ]
  }
 ],
 "metadata": {
  "interpreter": {
   "hash": "ed718b1bbe42e1bb530d15e7461b84310319b0ef2843da318d8d025f499ff3d4"
  },
  "kernelspec": {
   "display_name": "Python 3.9.10 64-bit (windows store)",
   "language": "python",
   "name": "python3"
  },
  "language_info": {
   "codemirror_mode": {
    "name": "ipython",
    "version": 3
   },
   "file_extension": ".py",
   "mimetype": "text/x-python",
   "name": "python",
   "nbconvert_exporter": "python",
   "pygments_lexer": "ipython3",
   "version": "3.9.10"
  },
  "orig_nbformat": 4
 },
 "nbformat": 4,
 "nbformat_minor": 2
}
