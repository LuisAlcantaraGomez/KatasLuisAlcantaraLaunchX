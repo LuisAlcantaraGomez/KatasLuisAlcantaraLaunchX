{
 "cells": [
  {
   "cell_type": "code",
   "execution_count": 4,
   "metadata": {},
   "outputs": [
    {
     "name": "stdout",
     "output_type": "stream",
     "text": [
      "Una asteroide se dirige rapidamente a la tierra ¡busca refugio!\n"
     ]
    }
   ],
   "source": [
    "a = 49\n",
    "if a > 25:\n",
    "    print (\"Una asteroide se dirige rapidamente a la tierra ¡busca refugio!\")\n",
    "else:\n",
    "    print(\"No hay que temer\")\n"
   ]
  },
  {
   "cell_type": "code",
   "execution_count": 5,
   "metadata": {},
   "outputs": [
    {
     "name": "stdout",
     "output_type": "stream",
     "text": [
      "No hay muestra de un asteoride\n"
     ]
    }
   ],
   "source": [
    "b = 19\n",
    "if b >= 20:\n",
    "    print('Busquen el asteroide en el cielo, deja un rayo de luz a su paso')\n",
    "\n",
    "else:\n",
    "    print('No hay muestra de un asteoride')"
   ]
  },
  {
   "cell_type": "code",
   "execution_count": 6,
   "metadata": {},
   "outputs": [
    {
     "name": "stdout",
     "output_type": "stream",
     "text": [
      "Busquen el asteroide\n"
     ]
    }
   ],
   "source": [
    "a=25\n",
    "b=1000\n",
    "vel_asteroide = 25\n",
    "\n",
    "if a > 25 or b < 1000:\n",
    "    print('probable destruccion de la tierra')\n",
    "elif vel_asteroide > 20:\n",
    "    print('Busquen el asteroide')\n",
    "elif vel_asteroide < 25:\n",
    "    print('No hay asteroide')\n",
    "else:\n",
    "    print('No hay asteroide')\n",
    "\n"
   ]
  }
 ],
 "metadata": {
  "interpreter": {
   "hash": "b41210508e8d70b5fde8bdd8f692b14be8eac38b11560e6a0a87c1ba35015309"
  },
  "kernelspec": {
   "display_name": "Python 3.10.2 64-bit",
   "language": "python",
   "name": "python3"
  },
  "language_info": {
   "codemirror_mode": {
    "name": "ipython",
    "version": 3
   },
   "file_extension": ".py",
   "mimetype": "text/x-python",
   "name": "python",
   "nbconvert_exporter": "python",
   "pygments_lexer": "ipython3",
   "version": "3.10.2"
  },
  "orig_nbformat": 4
 },
 "nbformat": 4,
 "nbformat_minor": 2
}
