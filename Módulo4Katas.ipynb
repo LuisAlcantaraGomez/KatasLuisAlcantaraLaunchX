{
 "cells": [
  {
   "cell_type": "code",
   "execution_count": 12,
   "metadata": {},
   "outputs": [
    {
     "name": "stdout",
     "output_type": "stream",
     "text": [
      " The Moon is Earth's only satellite\n",
      " There are several interesting facts about the Moon and how it affects life here on Earth\n",
      " This yearly drift is not significant enough to cause immediate effects on Earth\n",
      " The highest daylight temperature of the Moon is 127 Celsius\n"
     ]
    }
   ],
   "source": [
    "text = \"\"\"Interesting facts about the Moon. The Moon is Earth's only satellite. There are several interesting facts about the Moon and how it affects life here on Earth. \n",
    "On average, the Moon moves 4cm away from the Earth every year. This yearly drift is not significant enough to cause immediate effects on Earth. The highest daylight temperature of the Moon is 127 C.\"\"\"\n",
    "\n",
    "divide = text.split('.')\n",
    "\n",
    "palabras = [\"average\", \"temperature\", \"distance\"]\n",
    "\n",
    "for palabra in divide:\n",
    "    for palabras in palabras:\n",
    "        if palabras in palabra:\n",
    "            print(palabra.replace('C','Celsius'))\n",
    "            break\n",
    "\n",
    "\n"
   ]
  },
  {
   "cell_type": "code",
   "execution_count": 28,
   "metadata": {},
   "outputs": [
    {
     "name": "stdout",
     "output_type": "stream",
     "text": [
      "La Gravedad En La Luna \n",
      "La gravedad en la Luna = 1.6199999999999999 \n",
      "Nombre del planeta = Tierra\n",
      "\n",
      "\n",
      "La Gravedad En Ganimedes\n",
      "Gravedad en Ganimedes = 1.4300000000000002 \n",
      "Nombre del planeta = Marte\n"
     ]
    }
   ],
   "source": [
    "name = \"Luna\"\n",
    "gravity = 0.00162 # in kms\n",
    "planet = \"Tierra\"\n",
    "\n",
    "heading = 'La gravedad en la luna'\n",
    "\n",
    "plantilla = f'La gravedad en la {name} = {gravity*1000} \\nNombre del planeta = {planet}'\n",
    "\n",
    "template = f'''{heading.title()} \n",
    "{plantilla}'''\n",
    "\n",
    "print(template)\n",
    "\n",
    "\n",
    "name = \"Ganimedes\"\n",
    "gravity = 0.00143 # in kms\n",
    "planet = \"Marte\"\n",
    "\n",
    "heading2 = '\\n\\nLa gravedad en Ganimedes'\n",
    "\n",
    "nueva_plantilla=f'\\nGravedad en {name} = {gravity*1000} \\nNombre del planeta = {planet}'\n",
    "\n",
    "nueva_plantilla.format(name=name, planet=planet, gravity=gravity*1000)\n",
    "\n",
    "template2 = f'''{heading2.title()}{nueva_plantilla}'''\n",
    "print(template2)"
   ]
  }
 ],
 "metadata": {
  "interpreter": {
   "hash": "6255dd1bed068819f526516db85631384edaf9c863bcc430dd6a7138615f419b"
  },
  "kernelspec": {
   "display_name": "Python 3.9.10 64-bit (windows store)",
   "language": "python",
   "name": "python3"
  },
  "language_info": {
   "codemirror_mode": {
    "name": "ipython",
    "version": 3
   },
   "file_extension": ".py",
   "mimetype": "text/x-python",
   "name": "python",
   "nbconvert_exporter": "python",
   "pygments_lexer": "ipython3",
   "version": "3.9.10"
  },
  "orig_nbformat": 4
 },
 "nbformat": 4,
 "nbformat_minor": 2
}
