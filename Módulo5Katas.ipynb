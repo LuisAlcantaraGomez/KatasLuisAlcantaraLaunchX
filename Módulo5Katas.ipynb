{
 "cells": [
  {
   "cell_type": "code",
   "execution_count": 10,
   "metadata": {},
   "outputs": [
    {
     "name": "stdout",
     "output_type": "stream",
     "text": [
      "628949330\n",
      "390577534\n"
     ]
    }
   ],
   "source": [
    "tierra = 149597870\n",
    "jupiter = 778547200\n",
    "\n",
    "dist= (abs(tierra - jupiter))\n",
    "milla = dist * 0.621\n",
    "\n",
    "print(dist)\n",
    "print(round(milla))"
   ]
  },
  {
   "cell_type": "code",
   "execution_count": 17,
   "metadata": {},
   "outputs": [
    {
     "name": "stdout",
     "output_type": "stream",
     "text": [
      "50300000\n",
      "31236300.0\n"
     ]
    }
   ],
   "source": [
    "planeta1=input(\"Cual es la distancia del sol desde el planeta 1 (KM)\")\n",
    "planeta2=input(\"Cual es la distancia del sol desde el planeta 2 (KM)\")\n",
    "\n",
    "uno_int = int(planeta1)\n",
    "dos_int = int(planeta2)\n",
    "\n",
    "dist_km = dos_int - uno_int\n",
    "print(dist_km)\n",
    "milla2 = dist_km*0.621\n",
    "print(abs(milla2))"
   ]
  }
 ],
 "metadata": {
  "interpreter": {
   "hash": "6255dd1bed068819f526516db85631384edaf9c863bcc430dd6a7138615f419b"
  },
  "kernelspec": {
   "display_name": "Python 3.9.10 64-bit (windows store)",
   "language": "python",
   "name": "python3"
  },
  "language_info": {
   "codemirror_mode": {
    "name": "ipython",
    "version": 3
   },
   "file_extension": ".py",
   "mimetype": "text/x-python",
   "name": "python",
   "nbconvert_exporter": "python",
   "pygments_lexer": "ipython3",
   "version": "3.9.10"
  },
  "orig_nbformat": 4
 },
 "nbformat": 4,
 "nbformat_minor": 2
}
